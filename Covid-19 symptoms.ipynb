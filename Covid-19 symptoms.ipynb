{
 "cells": [
  {
   "cell_type": "code",
   "execution_count": 2,
   "metadata": {
    "ExecuteTime": {
     "end_time": "2021-01-06T12:25:06.679084Z",
     "start_time": "2021-01-06T12:25:05.915056Z"
    }
   },
   "outputs": [],
   "source": [
    "import pandas as pd\n",
    "import matplotlib.colors as mcolors\n",
    "import matplotlib.pyplot as plt\n",
    "import numpy as np\n"
   ]
  },
  {
   "cell_type": "code",
   "execution_count": 6,
   "metadata": {
    "ExecuteTime": {
     "end_time": "2021-01-06T12:25:42.055210Z",
     "start_time": "2021-01-06T12:25:42.010209Z"
    }
   },
   "outputs": [
    {
     "name": "stdout",
     "output_type": "stream",
     "text": [
      "     Fever  Tiredness  Dry-Cough  Difficulty-in-Breathing  Sore-Throat  \\\n",
      "0        1          1          1                        1            1   \n",
      "1        1          1          1                        1            1   \n",
      "2        1          1          1                        1            1   \n",
      "3        1          1          1                        1            1   \n",
      "4        1          1          1                        1            1   \n",
      "..     ...        ...        ...                      ...          ...   \n",
      "237      1          1          1                        1            0   \n",
      "238      1          1          1                        1            0   \n",
      "239      1          1          1                        1            0   \n",
      "240      1          1          1                        1            0   \n",
      "241      1          1          1                        1            0   \n",
      "\n",
      "     None_Sympton  Pains  Nasal-Congestion  \n",
      "0               0      1                 1  \n",
      "1               0      1                 1  \n",
      "2               0      1                 1  \n",
      "3               0      1                 1  \n",
      "4               0      1                 1  \n",
      "..            ...    ...               ...  \n",
      "237             0      0                 0  \n",
      "238             0      0                 0  \n",
      "239             0      0                 0  \n",
      "240             0      0                 0  \n",
      "241             0      0                 0  \n",
      "\n",
      "[242 rows x 8 columns]\n"
     ]
    }
   ],
   "source": [
    "symptoms = pd.read_excel('Covid_simptomi_4.xlsx')\n",
    "print(symptoms)"
   ]
  },
  {
   "cell_type": "code",
   "execution_count": 9,
   "metadata": {
    "ExecuteTime": {
     "end_time": "2021-01-06T12:27:34.307515Z",
     "start_time": "2021-01-06T12:27:34.154853Z"
    }
   },
   "outputs": [
    {
     "data": {
      "image/png": "[encoded data removed]",
      "text/plain": [
       "<Figure size 432x288 with 1 Axes>"
      ]
     },
     "metadata": {},
     "output_type": "display_data"
    },
    {
     "data": {
      "text/plain": [
       "<Figure size 1080x360 with 0 Axes>"
      ]
     },
     "metadata": {},
     "output_type": "display_data"
    }
   ],
   "source": [
    "fever = symptoms.loc[symptoms['Fever'] == 1].count()[0]\n",
    "tiredness = symptoms.loc[symptoms['Tiredness'] == 1].count()[0]\n",
    "dry_cough = symptoms.loc[symptoms['Dry-Cough'] == 1].count()[0]\n",
    "breathing = symptoms.loc[symptoms['Difficulty-in-Breathing'] == 1].count()[0]\n",
    "sore = symptoms.loc[symptoms['Sore-Throat'] ==1].count()[0]\n",
    "none = symptoms.loc[symptoms['None_Sympton'] == 1].count()[0]\n",
    "pains = symptoms.loc[symptoms['Pains'] == 1].count()[0]\n",
    "nasal = symptoms.loc[symptoms['Nasal-Congestion'] == 1].count()[0]\n",
    "\n",
    "labels = ['Fever','Tiredness', 'Dry-Cough','Difficulty-in-Breathing','Sore-Throat','None_Symptom','Pains','Nasal-Congestion']\n",
    "colors = ['b','g','r','c','m', 'y', '#9ffeb0','#ff796c']\n",
    "explode=(0,0,0,0,.1,.4,.1,.1)\n",
    "plt.pie([fever,tiredness,dry_cough, breathing, sore,none,pains,nasal], labels=labels, colors=colors, autopct='%.2f %%', pctdistance=0.7, explode=explode)\n",
    "\n",
    "plt.title('COVID-19 symptoms', fontdict={'fontweight':'bold', 'fontsize':22})\n",
    "\n",
    "plt.figure(figsize=(15,5)) \n",
    "\n",
    "plt.show()"
   ]
  },
  {
   "cell_type": "code",
   "execution_count": null,
   "metadata": {},
   "outputs": [],
   "source": [
    "## All 242 COVID patients had some symptoms, and over 18% of them had 4 most usuall symptoms like tiredness, fever\n",
    "## , dry-caugh and difficulty in breathing"
   ]
  }
 ],
 "metadata": {
  "gist": {
   "data": {
    "description": "Covid-19 symptoms.ipynb",
    "public": true
   },
   "id": ""
  },
  "hide_input": false,
  "kernelspec": {
   "display_name": "Python 3",
   "language": "python",
   "name": "python3"
  },
  "language_info": {
   "codemirror_mode": {
    "name": "ipython",
    "version": 3
   },
   "file_extension": ".py",
   "mimetype": "text/x-python",
   "name": "python",
   "nbconvert_exporter": "python",
   "pygments_lexer": "ipython3",
   "version": "3.8.3"
  },
  "latex_envs": {
   "LaTeX_envs_menu_present": true,
   "autoclose": false,
   "autocomplete": true,
   "bibliofile": "biblio.bib",
   "cite_by": "apalike",
   "current_citInitial": 1,
   "eqLabelWithNumbers": true,
   "eqNumInitial": 1,
   "hotkeys": {
    "equation": "Ctrl-E",
    "itemize": "Ctrl-I"
   },
   "labels_anchors": false,
   "latex_user_defs": false,
   "report_style_numbering": false,
   "user_envs_cfg": false
  },
  "nbTranslate": {
   "displayLangs": [
    "*"
   ],
   "hotkey": "alt-t",
   "langInMainMenu": true,
   "sourceLang": "en",
   "targetLang": "fr",
   "useGoogleTranslate": true
  },
  "toc": {
   "base_numbering": 1,
   "nav_menu": {},
   "number_sections": true,
   "sideBar": true,
   "skip_h1_title": false,
   "title_cell": "Table of Contents",
   "title_sidebar": "Contents",
   "toc_cell": false,
   "toc_position": {},
   "toc_section_display": true,
   "toc_window_display": false
  },
  "varInspector": {
   "cols": {
    "lenName": 16,
    "lenType": 16,
    "lenVar": 40
   },
   "kernels_config": {
    "python": {
     "delete_cmd_postfix": "",
     "delete_cmd_prefix": "del ",
     "library": "var_list.py",
     "varRefreshCmd": "print(var_dic_list())"
    },
    "r": {
     "delete_cmd_postfix": ") ",
     "delete_cmd_prefix": "rm(",
     "library": "var_list.r",
     "varRefreshCmd": "cat(var_dic_list()) "
    }
   },
   "types_to_exclude": [
    "module",
    "function",
    "builtin_function_or_method",
    "instance",
    "_Feature"
   ],
   "window_display": false
  }
 },
 "nbformat": 4,
 "nbformat_minor": 4
}
