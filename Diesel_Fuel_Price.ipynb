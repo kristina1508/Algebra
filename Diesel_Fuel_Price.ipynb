{
 "cells": [
  {
   "cell_type": "code",
   "execution_count": 2,
   "metadata": {
    "ExecuteTime": {
     "end_time": "2021-01-04T12:23:08.068972Z",
     "start_time": "2021-01-04T12:23:08.016970Z"
    }
   },
   "outputs": [
    {
     "name": "stdout",
     "output_type": "stream",
     "text": [
      "   Year Afghanistan  Albania  Algeria  Angola  Argentina  Armenia  Australia  \\\n",
      "0  2000          ..     0.30     0.15    0.15       0.52     0.31       0.57   \n",
      "1  2012        1.21     1.79     0.17    0.42       1.33     1.15       1.57   \n",
      "2  2014        1.19     1.71     0.16    0.51       1.33     1.16       1.28   \n",
      "3  2016         0.7     1.35     0.17    0.82       1.00     0.67       0.92   \n",
      "\n",
      "   Austria  Azerbaijan  ...  Spain  Sri Lanka  Sweden  Switzerland  Turkey  \\\n",
      "0     0.74        0.20  ...   0.65       0.27    0.80         0.84    0.66   \n",
      "1     1.81        0.57  ...   1.75       0.93    2.16         2.06    2.33   \n",
      "2     1.55        0.77  ...   1.55       0.90    1.82         1.79    1.90   \n",
      "3     1.15        0.35  ...   1.13       0.65    1.42         1.46    1.23   \n",
      "\n",
      "   Turkmenistan  Ukraine  United Arab Emirates  United Kingdom  United States  \n",
      "0          0.02     0.30                  0.26            1.22           0.48  \n",
      "1          0.20     1.25                  0.64            2.27           1.05  \n",
      "2          0.20     1.16                  0.64            1.99           0.97  \n",
      "3          0.27     0.73                  0.52            1.49           0.65  \n",
      "\n",
      "[4 rows x 73 columns]\n"
     ]
    }
   ],
   "source": [
    "import pandas as pd\n",
    "\n",
    "diesel = pd.read_excel('Diesel_fuel_price.xlsx')\n",
    "print(diesel)"
   ]
  },
  {
   "cell_type": "code",
   "execution_count": 3,
   "metadata": {
    "ExecuteTime": {
     "end_time": "2021-01-04T12:23:40.919287Z",
     "start_time": "2021-01-04T12:23:40.913284Z"
    }
   },
   "outputs": [
    {
     "name": "stdout",
     "output_type": "stream",
     "text": [
      "Index(['Year', 'Afghanistan', 'Albania', 'Algeria', 'Angola', 'Argentina',\n",
      "       'Armenia', 'Australia', 'Austria', 'Azerbaijan', 'Bangladesh',\n",
      "       'Belarus', 'Belgium', 'Bosnia and Herzegovina', 'Brazil', 'Bulgaria',\n",
      "       'Canada', 'Chile', 'China', 'Colombia', 'Congo, Dem. Rep.', 'Croatia',\n",
      "       'Cyprus', 'Czech Republic', 'Denmark', 'France', 'Germany', 'Ghana',\n",
      "       'Gibraltar', 'Greece', 'Hungary', 'Iceland', 'India', 'Indonesia',\n",
      "       'Iran, Islamic Rep.', 'Ireland', 'Italy', 'Japan', 'Luxembourg', 'Mali',\n",
      "       'Malta', 'Mongolia', 'Montenegro', 'Morocco', 'Mozambique', 'Myanmar',\n",
      "       'Namibia', 'Nauru', 'Nepal', 'Netherlands', 'New Zealand', 'Nicaragua',\n",
      "       'Poland', 'Portugal', 'Romania', 'Russian Federation', 'Rwanda',\n",
      "       'Saudi Arabia', 'Senegal', 'Serbia', 'Slovak Republic', 'Slovenia',\n",
      "       'South Africa', 'Spain', 'Sri Lanka', 'Sweden', 'Switzerland', 'Turkey',\n",
      "       'Turkmenistan', 'Ukraine', 'United Arab Emirates', 'United Kingdom',\n",
      "       'United States'],\n",
      "      dtype='object')\n"
     ]
    }
   ],
   "source": [
    "print(diesel.columns)"
   ]
  },
  {
   "cell_type": "code",
   "execution_count": 4,
   "metadata": {
    "ExecuteTime": {
     "end_time": "2021-01-04T12:24:41.299588Z",
     "start_time": "2021-01-04T12:24:41.136575Z"
    }
   },
   "outputs": [
    {
     "data": {
      "text/html": [
       "<div>\n",
       "<style scoped>\n",
       "    .dataframe tbody tr th:only-of-type {\n",
       "        vertical-align: middle;\n",
       "    }\n",
       "\n",
       "    .dataframe tbody tr th {\n",
       "        vertical-align: top;\n",
       "    }\n",
       "\n",
       "    .dataframe thead th {\n",
       "        text-align: right;\n",
       "    }\n",
       "</style>\n",
       "<table border=\"1\" class=\"dataframe\">\n",
       "  <thead>\n",
       "    <tr style=\"text-align: right;\">\n",
       "      <th></th>\n",
       "      <th>Year</th>\n",
       "      <th>Albania</th>\n",
       "      <th>Algeria</th>\n",
       "      <th>Angola</th>\n",
       "      <th>Argentina</th>\n",
       "      <th>Armenia</th>\n",
       "      <th>Australia</th>\n",
       "      <th>Austria</th>\n",
       "      <th>Azerbaijan</th>\n",
       "      <th>Bangladesh</th>\n",
       "      <th>...</th>\n",
       "      <th>Spain</th>\n",
       "      <th>Sri Lanka</th>\n",
       "      <th>Sweden</th>\n",
       "      <th>Switzerland</th>\n",
       "      <th>Turkey</th>\n",
       "      <th>Turkmenistan</th>\n",
       "      <th>Ukraine</th>\n",
       "      <th>United Arab Emirates</th>\n",
       "      <th>United Kingdom</th>\n",
       "      <th>United States</th>\n",
       "    </tr>\n",
       "  </thead>\n",
       "  <tbody>\n",
       "    <tr>\n",
       "      <th>count</th>\n",
       "      <td>4.000000</td>\n",
       "      <td>4.000000</td>\n",
       "      <td>4.000000</td>\n",
       "      <td>4.000000</td>\n",
       "      <td>4.000000</td>\n",
       "      <td>4.000000</td>\n",
       "      <td>4.000000</td>\n",
       "      <td>4.000000</td>\n",
       "      <td>4.00000</td>\n",
       "      <td>4.000000</td>\n",
       "      <td>...</td>\n",
       "      <td>4.000000</td>\n",
       "      <td>4.000000</td>\n",
       "      <td>4.000000</td>\n",
       "      <td>4.000000</td>\n",
       "      <td>4.000000</td>\n",
       "      <td>4.000000</td>\n",
       "      <td>4.000000</td>\n",
       "      <td>4.000000</td>\n",
       "      <td>4.000000</td>\n",
       "      <td>4.000000</td>\n",
       "    </tr>\n",
       "    <tr>\n",
       "      <th>mean</th>\n",
       "      <td>2010.500000</td>\n",
       "      <td>1.287500</td>\n",
       "      <td>0.162500</td>\n",
       "      <td>0.475000</td>\n",
       "      <td>1.045000</td>\n",
       "      <td>0.822500</td>\n",
       "      <td>1.085000</td>\n",
       "      <td>1.312500</td>\n",
       "      <td>0.47250</td>\n",
       "      <td>0.697500</td>\n",
       "      <td>...</td>\n",
       "      <td>1.270000</td>\n",
       "      <td>0.687500</td>\n",
       "      <td>1.550000</td>\n",
       "      <td>1.537500</td>\n",
       "      <td>1.530000</td>\n",
       "      <td>0.172500</td>\n",
       "      <td>0.860000</td>\n",
       "      <td>0.515000</td>\n",
       "      <td>1.742500</td>\n",
       "      <td>0.787500</td>\n",
       "    </tr>\n",
       "    <tr>\n",
       "      <th>std</th>\n",
       "      <td>7.187953</td>\n",
       "      <td>0.685584</td>\n",
       "      <td>0.009574</td>\n",
       "      <td>0.276225</td>\n",
       "      <td>0.383014</td>\n",
       "      <td>0.411127</td>\n",
       "      <td>0.434243</td>\n",
       "      <td>0.468357</td>\n",
       "      <td>0.24985</td>\n",
       "      <td>0.277654</td>\n",
       "      <td>...</td>\n",
       "      <td>0.487442</td>\n",
       "      <td>0.305328</td>\n",
       "      <td>0.584351</td>\n",
       "      <td>0.525761</td>\n",
       "      <td>0.735708</td>\n",
       "      <td>0.106888</td>\n",
       "      <td>0.436883</td>\n",
       "      <td>0.179165</td>\n",
       "      <td>0.474789</td>\n",
       "      <td>0.268126</td>\n",
       "    </tr>\n",
       "    <tr>\n",
       "      <th>min</th>\n",
       "      <td>2000.000000</td>\n",
       "      <td>0.300000</td>\n",
       "      <td>0.150000</td>\n",
       "      <td>0.150000</td>\n",
       "      <td>0.520000</td>\n",
       "      <td>0.310000</td>\n",
       "      <td>0.570000</td>\n",
       "      <td>0.740000</td>\n",
       "      <td>0.20000</td>\n",
       "      <td>0.290000</td>\n",
       "      <td>...</td>\n",
       "      <td>0.650000</td>\n",
       "      <td>0.270000</td>\n",
       "      <td>0.800000</td>\n",
       "      <td>0.840000</td>\n",
       "      <td>0.660000</td>\n",
       "      <td>0.020000</td>\n",
       "      <td>0.300000</td>\n",
       "      <td>0.260000</td>\n",
       "      <td>1.220000</td>\n",
       "      <td>0.480000</td>\n",
       "    </tr>\n",
       "    <tr>\n",
       "      <th>25%</th>\n",
       "      <td>2009.000000</td>\n",
       "      <td>1.087500</td>\n",
       "      <td>0.157500</td>\n",
       "      <td>0.352500</td>\n",
       "      <td>0.880000</td>\n",
       "      <td>0.580000</td>\n",
       "      <td>0.832500</td>\n",
       "      <td>1.047500</td>\n",
       "      <td>0.31250</td>\n",
       "      <td>0.642500</td>\n",
       "      <td>...</td>\n",
       "      <td>1.010000</td>\n",
       "      <td>0.555000</td>\n",
       "      <td>1.265000</td>\n",
       "      <td>1.305000</td>\n",
       "      <td>1.087500</td>\n",
       "      <td>0.155000</td>\n",
       "      <td>0.622500</td>\n",
       "      <td>0.455000</td>\n",
       "      <td>1.422500</td>\n",
       "      <td>0.607500</td>\n",
       "    </tr>\n",
       "    <tr>\n",
       "      <th>50%</th>\n",
       "      <td>2013.000000</td>\n",
       "      <td>1.530000</td>\n",
       "      <td>0.165000</td>\n",
       "      <td>0.465000</td>\n",
       "      <td>1.165000</td>\n",
       "      <td>0.910000</td>\n",
       "      <td>1.100000</td>\n",
       "      <td>1.350000</td>\n",
       "      <td>0.46000</td>\n",
       "      <td>0.800000</td>\n",
       "      <td>...</td>\n",
       "      <td>1.340000</td>\n",
       "      <td>0.775000</td>\n",
       "      <td>1.620000</td>\n",
       "      <td>1.625000</td>\n",
       "      <td>1.565000</td>\n",
       "      <td>0.200000</td>\n",
       "      <td>0.945000</td>\n",
       "      <td>0.580000</td>\n",
       "      <td>1.740000</td>\n",
       "      <td>0.810000</td>\n",
       "    </tr>\n",
       "    <tr>\n",
       "      <th>75%</th>\n",
       "      <td>2014.500000</td>\n",
       "      <td>1.730000</td>\n",
       "      <td>0.170000</td>\n",
       "      <td>0.587500</td>\n",
       "      <td>1.330000</td>\n",
       "      <td>1.152500</td>\n",
       "      <td>1.352500</td>\n",
       "      <td>1.615000</td>\n",
       "      <td>0.62000</td>\n",
       "      <td>0.855000</td>\n",
       "      <td>...</td>\n",
       "      <td>1.600000</td>\n",
       "      <td>0.907500</td>\n",
       "      <td>1.905000</td>\n",
       "      <td>1.857500</td>\n",
       "      <td>2.007500</td>\n",
       "      <td>0.217500</td>\n",
       "      <td>1.182500</td>\n",
       "      <td>0.640000</td>\n",
       "      <td>2.060000</td>\n",
       "      <td>0.990000</td>\n",
       "    </tr>\n",
       "    <tr>\n",
       "      <th>max</th>\n",
       "      <td>2016.000000</td>\n",
       "      <td>1.790000</td>\n",
       "      <td>0.170000</td>\n",
       "      <td>0.820000</td>\n",
       "      <td>1.330000</td>\n",
       "      <td>1.160000</td>\n",
       "      <td>1.570000</td>\n",
       "      <td>1.810000</td>\n",
       "      <td>0.77000</td>\n",
       "      <td>0.900000</td>\n",
       "      <td>...</td>\n",
       "      <td>1.750000</td>\n",
       "      <td>0.930000</td>\n",
       "      <td>2.160000</td>\n",
       "      <td>2.060000</td>\n",
       "      <td>2.330000</td>\n",
       "      <td>0.270000</td>\n",
       "      <td>1.250000</td>\n",
       "      <td>0.640000</td>\n",
       "      <td>2.270000</td>\n",
       "      <td>1.050000</td>\n",
       "    </tr>\n",
       "  </tbody>\n",
       "</table>\n",
       "<p>8 rows × 69 columns</p>\n",
       "</div>"
      ],
      "text/plain": [
       "              Year   Albania   Algeria    Angola  Argentina   Armenia  \\\n",
       "count     4.000000  4.000000  4.000000  4.000000   4.000000  4.000000   \n",
       "mean   2010.500000  1.287500  0.162500  0.475000   1.045000  0.822500   \n",
       "std       7.187953  0.685584  0.009574  0.276225   0.383014  0.411127   \n",
       "min    2000.000000  0.300000  0.150000  0.150000   0.520000  0.310000   \n",
       "25%    2009.000000  1.087500  0.157500  0.352500   0.880000  0.580000   \n",
       "50%    2013.000000  1.530000  0.165000  0.465000   1.165000  0.910000   \n",
       "75%    2014.500000  1.730000  0.170000  0.587500   1.330000  1.152500   \n",
       "max    2016.000000  1.790000  0.170000  0.820000   1.330000  1.160000   \n",
       "\n",
       "       Australia   Austria  Azerbaijan  Bangladesh  ...     Spain  Sri Lanka  \\\n",
       "count   4.000000  4.000000     4.00000    4.000000  ...  4.000000   4.000000   \n",
       "mean    1.085000  1.312500     0.47250    0.697500  ...  1.270000   0.687500   \n",
       "std     0.434243  0.468357     0.24985    0.277654  ...  0.487442   0.305328   \n",
       "min     0.570000  0.740000     0.20000    0.290000  ...  0.650000   0.270000   \n",
       "25%     0.832500  1.047500     0.31250    0.642500  ...  1.010000   0.555000   \n",
       "50%     1.100000  1.350000     0.46000    0.800000  ...  1.340000   0.775000   \n",
       "75%     1.352500  1.615000     0.62000    0.855000  ...  1.600000   0.907500   \n",
       "max     1.570000  1.810000     0.77000    0.900000  ...  1.750000   0.930000   \n",
       "\n",
       "         Sweden  Switzerland    Turkey  Turkmenistan   Ukraine  \\\n",
       "count  4.000000     4.000000  4.000000      4.000000  4.000000   \n",
       "mean   1.550000     1.537500  1.530000      0.172500  0.860000   \n",
       "std    0.584351     0.525761  0.735708      0.106888  0.436883   \n",
       "min    0.800000     0.840000  0.660000      0.020000  0.300000   \n",
       "25%    1.265000     1.305000  1.087500      0.155000  0.622500   \n",
       "50%    1.620000     1.625000  1.565000      0.200000  0.945000   \n",
       "75%    1.905000     1.857500  2.007500      0.217500  1.182500   \n",
       "max    2.160000     2.060000  2.330000      0.270000  1.250000   \n",
       "\n",
       "       United Arab Emirates  United Kingdom  United States  \n",
       "count              4.000000        4.000000       4.000000  \n",
       "mean               0.515000        1.742500       0.787500  \n",
       "std                0.179165        0.474789       0.268126  \n",
       "min                0.260000        1.220000       0.480000  \n",
       "25%                0.455000        1.422500       0.607500  \n",
       "50%                0.580000        1.740000       0.810000  \n",
       "75%                0.640000        2.060000       0.990000  \n",
       "max                0.640000        2.270000       1.050000  \n",
       "\n",
       "[8 rows x 69 columns]"
      ]
     },
     "execution_count": 4,
     "metadata": {},
     "output_type": "execute_result"
    }
   ],
   "source": [
    "diesel.describe()"
   ]
  },
  {
   "cell_type": "code",
   "execution_count": 5,
   "metadata": {
    "ExecuteTime": {
     "end_time": "2021-01-04T12:27:03.100942Z",
     "start_time": "2021-01-04T12:27:03.091939Z"
    }
   },
   "outputs": [],
   "source": [
    "import matplotlib.pyplot as plt\n",
    "import numpy as np\n",
    "import pandas as pd"
   ]
  },
  {
   "cell_type": "code",
   "execution_count": 51,
   "metadata": {
    "ExecuteTime": {
     "end_time": "2021-01-04T16:04:01.361854Z",
     "start_time": "2021-01-04T16:04:01.130837Z"
    }
   },
   "outputs": [
    {
     "data": {
      "text/plain": [
       "Text(0, 0.5, 'US$ per liter')"
      ]
     },
     "execution_count": 51,
     "metadata": {},
     "output_type": "execute_result"
    },
    {
     "data": {
      "image/png": "[encoded data removed]",
      "text/plain": [
       "<Figure size 864x360 with 1 Axes>"
      ]
     },
     "metadata": {
      "needs_background": "light"
     },
     "output_type": "display_data"
    }
   ],
   "source": [
    "plt.figure(figsize=(12,5)) \n",
    "\n",
    "plt.title('Diesel fuel prices over time (US$ per liter)', fontdict={'fontweight':'bold', 'fontsize':24})\n",
    "\n",
    "plt.plot(diesel.Year,diesel.Croatia, label=('CRO'))\n",
    "plt.plot(diesel.Year,diesel.Serbia, label=('SER'))\n",
    "plt.plot(diesel.Year,diesel['Bosnia and Herzegovina'], label=('BIH'))\n",
    "plt.plot(diesel.Year,diesel.Montenegro, label=('MON'))        \n",
    "plt.plot(diesel.Year,diesel.Slovenia, label=('SLO') )  \n",
    "\n",
    "plt.legend()\n",
    "plt.xlabel('Year')\n",
    "plt.ylabel('US$ per liter')\n",
    "       "
   ]
  }
 ],
 "metadata": {
  "hide_input": false,
  "kernelspec": {
   "display_name": "Python 3",
   "language": "python",
   "name": "python3"
  },
  "language_info": {
   "codemirror_mode": {
    "name": "ipython",
    "version": 3
   },
   "file_extension": ".py",
   "mimetype": "text/x-python",
   "name": "python",
   "nbconvert_exporter": "python",
   "pygments_lexer": "ipython3",
   "version": "3.8.3"
  },
  "latex_envs": {
   "LaTeX_envs_menu_present": true,
   "autoclose": false,
   "autocomplete": true,
   "bibliofile": "biblio.bib",
   "cite_by": "apalike",
   "current_citInitial": 1,
   "eqLabelWithNumbers": true,
   "eqNumInitial": 1,
   "hotkeys": {
    "equation": "Ctrl-E",
    "itemize": "Ctrl-I"
   },
   "labels_anchors": false,
   "latex_user_defs": false,
   "report_style_numbering": false,
   "user_envs_cfg": false
  },
  "nbTranslate": {
   "displayLangs": [
    "*"
   ],
   "hotkey": "alt-t",
   "langInMainMenu": true,
   "sourceLang": "en",
   "targetLang": "fr",
   "useGoogleTranslate": true
  },
  "toc": {
   "base_numbering": 1,
   "nav_menu": {},
   "number_sections": true,
   "sideBar": true,
   "skip_h1_title": false,
   "title_cell": "Table of Contents",
   "title_sidebar": "Contents",
   "toc_cell": false,
   "toc_position": {},
   "toc_section_display": true,
   "toc_window_display": false
  },
  "varInspector": {
   "cols": {
    "lenName": 16,
    "lenType": 16,
    "lenVar": 40
   },
   "kernels_config": {
    "python": {
     "delete_cmd_postfix": "",
     "delete_cmd_prefix": "del ",
     "library": "var_list.py",
     "varRefreshCmd": "print(var_dic_list())"
    },
    "r": {
     "delete_cmd_postfix": ") ",
     "delete_cmd_prefix": "rm(",
     "library": "var_list.r",
     "varRefreshCmd": "cat(var_dic_list()) "
    }
   },
   "types_to_exclude": [
    "module",
    "function",
    "builtin_function_or_method",
    "instance",
    "_Feature"
   ],
   "window_display": false
  }
 },
 "nbformat": 4,
 "nbformat_minor": 4
}
